{
 "cells": [
  {
   "cell_type": "markdown",
   "metadata": {},
   "source": [
    "### Anlaytics Objectives :\n",
    "\n",
    "* To create an analytical and modelling framework to predict whether an Customer is fraudulent or not   based on the quantitative and qualitative features provided in the datasets.\n",
    "* Specific features that are highly important.\n",
    "\n",
    "### Attribute details :\n",
    "\n",
    "* Dataset has large number of columns with many missing values in each columns.\n",
    "\n",
    "### Target :\n",
    "\n",
    "* \"fraudulent\" is a target variable and have to predict either \"True\", \"False\"\n"
   ]
  },
  {
   "cell_type": "markdown",
   "metadata": {},
   "source": [
    "### Importing requried libraries"
   ]
  },
  {
   "cell_type": "code",
   "execution_count": 70,
   "metadata": {},
   "outputs": [],
   "source": [
    "import pandas as pd\n",
    "import numpy as np"
   ]
  },
  {
   "cell_type": "code",
   "execution_count": 71,
   "metadata": {},
   "outputs": [],
   "source": [
    "import os\n",
    "PATH = os.getcwd()"
   ]
  },
  {
   "cell_type": "code",
   "execution_count": 72,
   "metadata": {},
   "outputs": [
    {
     "name": "stdout",
     "output_type": "stream",
     "text": [
      "C:\\Users\\kk\\Desktop\\Summit_Minds\n"
     ]
    }
   ],
   "source": [
    "print(PATH)"
   ]
  },
  {
   "cell_type": "markdown",
   "metadata": {},
   "source": [
    "### Reading the Data"
   ]
  },
  {
   "cell_type": "code",
   "execution_count": 73,
   "metadata": {},
   "outputs": [],
   "source": [
    "data = pd.read_csv(\"customersdata.csv\")"
   ]
  },
  {
   "cell_type": "code",
   "execution_count": 74,
   "metadata": {},
   "outputs": [
    {
     "data": {
      "text/html": [
       "<div>\n",
       "<style scoped>\n",
       "    .dataframe tbody tr th:only-of-type {\n",
       "        vertical-align: middle;\n",
       "    }\n",
       "\n",
       "    .dataframe tbody tr th {\n",
       "        vertical-align: top;\n",
       "    }\n",
       "\n",
       "    .dataframe thead th {\n",
       "        text-align: right;\n",
       "    }\n",
       "</style>\n",
       "<table border=\"1\" class=\"dataframe\">\n",
       "  <thead>\n",
       "    <tr style=\"text-align: right;\">\n",
       "      <th></th>\n",
       "      <th>fraudulent</th>\n",
       "      <th>customer/customerEmail</th>\n",
       "      <th>customer/customerPhone</th>\n",
       "      <th>customer/customerDevice</th>\n",
       "      <th>customer/customerIPAddress</th>\n",
       "      <th>customer/customerBillingAddress</th>\n",
       "      <th>orders/0/orderId</th>\n",
       "      <th>orders/0/orderAmount</th>\n",
       "      <th>orders/0/orderState</th>\n",
       "      <th>orders/0/orderShippingAddress</th>\n",
       "      <th>...</th>\n",
       "      <th>transactions/13/transactionId</th>\n",
       "      <th>transactions/13/orderId</th>\n",
       "      <th>transactions/13/paymentMethodId</th>\n",
       "      <th>transactions/13/transactionAmount</th>\n",
       "      <th>transactions/13/transactionFailed</th>\n",
       "      <th>transactions/14/transactionId</th>\n",
       "      <th>transactions/14/orderId</th>\n",
       "      <th>transactions/14/paymentMethodId</th>\n",
       "      <th>transactions/14/transactionAmount</th>\n",
       "      <th>transactions/14/transactionFailed</th>\n",
       "    </tr>\n",
       "  </thead>\n",
       "  <tbody>\n",
       "    <tr>\n",
       "      <th>0</th>\n",
       "      <td>False</td>\n",
       "      <td>josephhoward@yahoo.com</td>\n",
       "      <td>400-108-5415</td>\n",
       "      <td>yyeiaxpltf82440jnb3v</td>\n",
       "      <td>8.129.104.40</td>\n",
       "      <td>5493 Jones Islands\\r\\nBrownside, CA 51896</td>\n",
       "      <td>vjbdvd</td>\n",
       "      <td>18.0</td>\n",
       "      <td>pending</td>\n",
       "      <td>5493 Jones Islands\\r\\nBrownside, CA 51896</td>\n",
       "      <td>...</td>\n",
       "      <td>NaN</td>\n",
       "      <td>NaN</td>\n",
       "      <td>NaN</td>\n",
       "      <td>NaN</td>\n",
       "      <td>NaN</td>\n",
       "      <td>NaN</td>\n",
       "      <td>NaN</td>\n",
       "      <td>NaN</td>\n",
       "      <td>NaN</td>\n",
       "      <td>NaN</td>\n",
       "    </tr>\n",
       "    <tr>\n",
       "      <th>1</th>\n",
       "      <td>True</td>\n",
       "      <td>evansjeffery@yahoo.com</td>\n",
       "      <td>1-788-091-7546</td>\n",
       "      <td>r0jpm7xaeqqa3kr6mzum</td>\n",
       "      <td>219.173.211.202</td>\n",
       "      <td>356 Elizabeth Inlet Suite 120\\r\\nPort Joshuabu...</td>\n",
       "      <td>nlghpa</td>\n",
       "      <td>45.0</td>\n",
       "      <td>fulfilled</td>\n",
       "      <td>898 Henry Ports\\r\\nNew Keithview, CA 95893-2497</td>\n",
       "      <td>...</td>\n",
       "      <td>NaN</td>\n",
       "      <td>NaN</td>\n",
       "      <td>NaN</td>\n",
       "      <td>NaN</td>\n",
       "      <td>NaN</td>\n",
       "      <td>NaN</td>\n",
       "      <td>NaN</td>\n",
       "      <td>NaN</td>\n",
       "      <td>NaN</td>\n",
       "      <td>NaN</td>\n",
       "    </tr>\n",
       "    <tr>\n",
       "      <th>2</th>\n",
       "      <td>False</td>\n",
       "      <td>andersonwilliam@yahoo.com</td>\n",
       "      <td>024.420.0375</td>\n",
       "      <td>4m7h5ipl1shyavt6vv2r</td>\n",
       "      <td>67b7:3db8:67e0:3bea:b9d0:90c1:2b60:b9f0</td>\n",
       "      <td>8478 Sean Ridges Apt. 441\\r\\nDavisberg, PR 72250</td>\n",
       "      <td>yk34y2</td>\n",
       "      <td>33.0</td>\n",
       "      <td>failed</td>\n",
       "      <td>8478 Sean Ridges Apt. 441\\r\\nDavisberg, PR 72250</td>\n",
       "      <td>...</td>\n",
       "      <td>NaN</td>\n",
       "      <td>NaN</td>\n",
       "      <td>NaN</td>\n",
       "      <td>NaN</td>\n",
       "      <td>NaN</td>\n",
       "      <td>NaN</td>\n",
       "      <td>NaN</td>\n",
       "      <td>NaN</td>\n",
       "      <td>NaN</td>\n",
       "      <td>NaN</td>\n",
       "    </tr>\n",
       "    <tr>\n",
       "      <th>3</th>\n",
       "      <td>False</td>\n",
       "      <td>rubenjuarez@yahoo.com</td>\n",
       "      <td>670.664.8168x94985</td>\n",
       "      <td>slovx60t0i558may4ks0</td>\n",
       "      <td>95de:8565:5a66:792c:26e0:6cfb:7d87:11af</td>\n",
       "      <td>7769 Elizabeth Bridge Apt. 343\\r\\nNortonstad, ...</td>\n",
       "      <td>fbz9ep</td>\n",
       "      <td>34.0</td>\n",
       "      <td>fulfilled</td>\n",
       "      <td>7769 Elizabeth Bridge Apt. 343\\r\\nNortonstad, ...</td>\n",
       "      <td>...</td>\n",
       "      <td>NaN</td>\n",
       "      <td>NaN</td>\n",
       "      <td>NaN</td>\n",
       "      <td>NaN</td>\n",
       "      <td>NaN</td>\n",
       "      <td>NaN</td>\n",
       "      <td>NaN</td>\n",
       "      <td>NaN</td>\n",
       "      <td>NaN</td>\n",
       "      <td>NaN</td>\n",
       "    </tr>\n",
       "    <tr>\n",
       "      <th>4</th>\n",
       "      <td>True</td>\n",
       "      <td>uchen@malone.com</td>\n",
       "      <td>1-981-877-0870</td>\n",
       "      <td>j0pd24k5h8dl2fqu0cz4</td>\n",
       "      <td>196.89.235.192</td>\n",
       "      <td>148 Russell Lodge Apt. 445\\r\\nPort Jennifersid...</td>\n",
       "      <td>56h7iw</td>\n",
       "      <td>71.0</td>\n",
       "      <td>fulfilled</td>\n",
       "      <td>148 Russell Lodge Apt. 445\\r\\nPort Jennifersid...</td>\n",
       "      <td>...</td>\n",
       "      <td>NaN</td>\n",
       "      <td>NaN</td>\n",
       "      <td>NaN</td>\n",
       "      <td>NaN</td>\n",
       "      <td>NaN</td>\n",
       "      <td>NaN</td>\n",
       "      <td>NaN</td>\n",
       "      <td>NaN</td>\n",
       "      <td>NaN</td>\n",
       "      <td>NaN</td>\n",
       "    </tr>\n",
       "  </tbody>\n",
       "</table>\n",
       "<p>5 rows × 188 columns</p>\n",
       "</div>"
      ],
      "text/plain": [
       "   fraudulent     customer/customerEmail customer/customerPhone  \\\n",
       "0       False     josephhoward@yahoo.com           400-108-5415   \n",
       "1        True     evansjeffery@yahoo.com         1-788-091-7546   \n",
       "2       False  andersonwilliam@yahoo.com           024.420.0375   \n",
       "3       False      rubenjuarez@yahoo.com     670.664.8168x94985   \n",
       "4        True           uchen@malone.com         1-981-877-0870   \n",
       "\n",
       "  customer/customerDevice               customer/customerIPAddress  \\\n",
       "0    yyeiaxpltf82440jnb3v                             8.129.104.40   \n",
       "1    r0jpm7xaeqqa3kr6mzum                          219.173.211.202   \n",
       "2    4m7h5ipl1shyavt6vv2r  67b7:3db8:67e0:3bea:b9d0:90c1:2b60:b9f0   \n",
       "3    slovx60t0i558may4ks0  95de:8565:5a66:792c:26e0:6cfb:7d87:11af   \n",
       "4    j0pd24k5h8dl2fqu0cz4                           196.89.235.192   \n",
       "\n",
       "                     customer/customerBillingAddress orders/0/orderId  \\\n",
       "0          5493 Jones Islands\\r\\nBrownside, CA 51896           vjbdvd   \n",
       "1  356 Elizabeth Inlet Suite 120\\r\\nPort Joshuabu...           nlghpa   \n",
       "2   8478 Sean Ridges Apt. 441\\r\\nDavisberg, PR 72250           yk34y2   \n",
       "3  7769 Elizabeth Bridge Apt. 343\\r\\nNortonstad, ...           fbz9ep   \n",
       "4  148 Russell Lodge Apt. 445\\r\\nPort Jennifersid...           56h7iw   \n",
       "\n",
       "   orders/0/orderAmount orders/0/orderState  \\\n",
       "0                  18.0             pending   \n",
       "1                  45.0           fulfilled   \n",
       "2                  33.0              failed   \n",
       "3                  34.0           fulfilled   \n",
       "4                  71.0           fulfilled   \n",
       "\n",
       "                       orders/0/orderShippingAddress  \\\n",
       "0          5493 Jones Islands\\r\\nBrownside, CA 51896   \n",
       "1    898 Henry Ports\\r\\nNew Keithview, CA 95893-2497   \n",
       "2   8478 Sean Ridges Apt. 441\\r\\nDavisberg, PR 72250   \n",
       "3  7769 Elizabeth Bridge Apt. 343\\r\\nNortonstad, ...   \n",
       "4  148 Russell Lodge Apt. 445\\r\\nPort Jennifersid...   \n",
       "\n",
       "                 ...                transactions/13/transactionId  \\\n",
       "0                ...                                          NaN   \n",
       "1                ...                                          NaN   \n",
       "2                ...                                          NaN   \n",
       "3                ...                                          NaN   \n",
       "4                ...                                          NaN   \n",
       "\n",
       "   transactions/13/orderId transactions/13/paymentMethodId  \\\n",
       "0                      NaN                             NaN   \n",
       "1                      NaN                             NaN   \n",
       "2                      NaN                             NaN   \n",
       "3                      NaN                             NaN   \n",
       "4                      NaN                             NaN   \n",
       "\n",
       "  transactions/13/transactionAmount transactions/13/transactionFailed  \\\n",
       "0                               NaN                               NaN   \n",
       "1                               NaN                               NaN   \n",
       "2                               NaN                               NaN   \n",
       "3                               NaN                               NaN   \n",
       "4                               NaN                               NaN   \n",
       "\n",
       "  transactions/14/transactionId transactions/14/orderId  \\\n",
       "0                           NaN                     NaN   \n",
       "1                           NaN                     NaN   \n",
       "2                           NaN                     NaN   \n",
       "3                           NaN                     NaN   \n",
       "4                           NaN                     NaN   \n",
       "\n",
       "  transactions/14/paymentMethodId transactions/14/transactionAmount  \\\n",
       "0                             NaN                               NaN   \n",
       "1                             NaN                               NaN   \n",
       "2                             NaN                               NaN   \n",
       "3                             NaN                               NaN   \n",
       "4                             NaN                               NaN   \n",
       "\n",
       "  transactions/14/transactionFailed  \n",
       "0                               NaN  \n",
       "1                               NaN  \n",
       "2                               NaN  \n",
       "3                               NaN  \n",
       "4                               NaN  \n",
       "\n",
       "[5 rows x 188 columns]"
      ]
     },
     "execution_count": 74,
     "metadata": {},
     "output_type": "execute_result"
    }
   ],
   "source": [
    "data.head(5)"
   ]
  },
  {
   "cell_type": "markdown",
   "metadata": {},
   "source": [
    "### Checking shape"
   ]
  },
  {
   "cell_type": "code",
   "execution_count": 75,
   "metadata": {},
   "outputs": [
    {
     "data": {
      "text/plain": [
       "(168, 188)"
      ]
     },
     "execution_count": 75,
     "metadata": {},
     "output_type": "execute_result"
    }
   ],
   "source": [
    "data.shape"
   ]
  },
  {
   "cell_type": "code",
   "execution_count": 76,
   "metadata": {},
   "outputs": [
    {
     "data": {
      "text/plain": [
       "Index(['fraudulent', 'customer/customerEmail', 'customer/customerPhone',\n",
       "       'customer/customerDevice', 'customer/customerIPAddress',\n",
       "       'customer/customerBillingAddress', 'orders/0/orderId',\n",
       "       'orders/0/orderAmount', 'orders/0/orderState',\n",
       "       'orders/0/orderShippingAddress',\n",
       "       ...\n",
       "       'transactions/13/transactionId', 'transactions/13/orderId',\n",
       "       'transactions/13/paymentMethodId', 'transactions/13/transactionAmount',\n",
       "       'transactions/13/transactionFailed', 'transactions/14/transactionId',\n",
       "       'transactions/14/orderId', 'transactions/14/paymentMethodId',\n",
       "       'transactions/14/transactionAmount',\n",
       "       'transactions/14/transactionFailed'],\n",
       "      dtype='object', length=188)"
      ]
     },
     "execution_count": 76,
     "metadata": {},
     "output_type": "execute_result"
    }
   ],
   "source": [
    "data.columns"
   ]
  },
  {
   "cell_type": "markdown",
   "metadata": {},
   "source": [
    "### Checking for Datatypes"
   ]
  },
  {
   "cell_type": "code",
   "execution_count": 77,
   "metadata": {},
   "outputs": [
    {
     "data": {
      "text/plain": [
       "fraudulent                                              bool\n",
       "customer/customerEmail                                object\n",
       "customer/customerPhone                                object\n",
       "customer/customerDevice                               object\n",
       "customer/customerIPAddress                            object\n",
       "customer/customerBillingAddress                       object\n",
       "orders/0/orderId                                      object\n",
       "orders/0/orderAmount                                 float64\n",
       "orders/0/orderState                                   object\n",
       "orders/0/orderShippingAddress                         object\n",
       "orders/1/orderId                                      object\n",
       "orders/1/orderAmount                                 float64\n",
       "orders/1/orderState                                   object\n",
       "orders/1/orderShippingAddress                         object\n",
       "paymentMethods/0/paymentMethodId                      object\n",
       "paymentMethods/0/paymentMethodRegistrationFailure     object\n",
       "paymentMethods/0/paymentMethodType                    object\n",
       "paymentMethods/0/paymentMethodProvider                object\n",
       "paymentMethods/0/paymentMethodIssuer                  object\n",
       "transactions/0/transactionId                          object\n",
       "transactions/0/orderId                                object\n",
       "transactions/0/paymentMethodId                        object\n",
       "transactions/0/transactionAmount                     float64\n",
       "transactions/0/transactionFailed                      object\n",
       "transactions/1/transactionId                          object\n",
       "transactions/1/orderId                                object\n",
       "transactions/1/paymentMethodId                        object\n",
       "transactions/1/transactionAmount                     float64\n",
       "transactions/1/transactionFailed                      object\n",
       "orders/2/orderId                                      object\n",
       "                                                      ...   \n",
       "transactions/9/transactionId                          object\n",
       "transactions/9/orderId                                object\n",
       "transactions/9/paymentMethodId                        object\n",
       "transactions/9/transactionAmount                     float64\n",
       "transactions/9/transactionFailed                      object\n",
       "transactions/10/transactionId                         object\n",
       "transactions/10/orderId                               object\n",
       "transactions/10/paymentMethodId                       object\n",
       "transactions/10/transactionAmount                    float64\n",
       "transactions/10/transactionFailed                     object\n",
       "transactions/11/transactionId                         object\n",
       "transactions/11/orderId                               object\n",
       "transactions/11/paymentMethodId                       object\n",
       "transactions/11/transactionAmount                    float64\n",
       "transactions/11/transactionFailed                     object\n",
       "transactions/12/transactionId                         object\n",
       "transactions/12/orderId                               object\n",
       "transactions/12/paymentMethodId                       object\n",
       "transactions/12/transactionAmount                    float64\n",
       "transactions/12/transactionFailed                     object\n",
       "transactions/13/transactionId                         object\n",
       "transactions/13/orderId                               object\n",
       "transactions/13/paymentMethodId                       object\n",
       "transactions/13/transactionAmount                    float64\n",
       "transactions/13/transactionFailed                     object\n",
       "transactions/14/transactionId                         object\n",
       "transactions/14/orderId                               object\n",
       "transactions/14/paymentMethodId                       object\n",
       "transactions/14/transactionAmount                    float64\n",
       "transactions/14/transactionFailed                     object\n",
       "Length: 188, dtype: object"
      ]
     },
     "execution_count": 77,
     "metadata": {},
     "output_type": "execute_result"
    }
   ],
   "source": [
    "data.dtypes"
   ]
  },
  {
   "cell_type": "markdown",
   "metadata": {},
   "source": [
    "### Checking for Missing values"
   ]
  },
  {
   "cell_type": "code",
   "execution_count": 78,
   "metadata": {},
   "outputs": [
    {
     "data": {
      "text/plain": [
       "fraudulent                                           0.000000\n",
       "customer/customerEmail                               0.000000\n",
       "customer/customerPhone                               0.000000\n",
       "customer/customerDevice                              0.000000\n",
       "customer/customerIPAddress                           0.000000\n",
       "customer/customerBillingAddress                      0.000000\n",
       "orders/0/orderId                                     0.160714\n",
       "orders/0/orderAmount                                 0.160714\n",
       "orders/0/orderState                                  0.160714\n",
       "orders/0/orderShippingAddress                        0.160714\n",
       "orders/1/orderId                                     0.309524\n",
       "orders/1/orderAmount                                 0.309524\n",
       "orders/1/orderState                                  0.309524\n",
       "orders/1/orderShippingAddress                        0.309524\n",
       "paymentMethods/0/paymentMethodId                     0.071429\n",
       "paymentMethods/0/paymentMethodRegistrationFailure    0.071429\n",
       "paymentMethods/0/paymentMethodType                   0.071429\n",
       "paymentMethods/0/paymentMethodProvider               0.071429\n",
       "paymentMethods/0/paymentMethodIssuer                 0.071429\n",
       "transactions/0/transactionId                         0.160714\n",
       "transactions/0/orderId                               0.160714\n",
       "transactions/0/paymentMethodId                       0.160714\n",
       "transactions/0/transactionAmount                     0.160714\n",
       "transactions/0/transactionFailed                     0.160714\n",
       "transactions/1/transactionId                         0.267857\n",
       "transactions/1/orderId                               0.267857\n",
       "transactions/1/paymentMethodId                       0.267857\n",
       "transactions/1/transactionAmount                     0.267857\n",
       "transactions/1/transactionFailed                     0.267857\n",
       "orders/2/orderId                                     0.422619\n",
       "                                                       ...   \n",
       "transactions/9/transactionId                         0.964286\n",
       "transactions/9/orderId                               0.964286\n",
       "transactions/9/paymentMethodId                       0.964286\n",
       "transactions/9/transactionAmount                     0.964286\n",
       "transactions/9/transactionFailed                     0.964286\n",
       "transactions/10/transactionId                        0.982143\n",
       "transactions/10/orderId                              0.982143\n",
       "transactions/10/paymentMethodId                      0.982143\n",
       "transactions/10/transactionAmount                    0.982143\n",
       "transactions/10/transactionFailed                    0.982143\n",
       "transactions/11/transactionId                        0.988095\n",
       "transactions/11/orderId                              0.988095\n",
       "transactions/11/paymentMethodId                      0.988095\n",
       "transactions/11/transactionAmount                    0.988095\n",
       "transactions/11/transactionFailed                    0.988095\n",
       "transactions/12/transactionId                        0.988095\n",
       "transactions/12/orderId                              0.988095\n",
       "transactions/12/paymentMethodId                      0.988095\n",
       "transactions/12/transactionAmount                    0.988095\n",
       "transactions/12/transactionFailed                    0.988095\n",
       "transactions/13/transactionId                        0.994048\n",
       "transactions/13/orderId                              0.994048\n",
       "transactions/13/paymentMethodId                      0.994048\n",
       "transactions/13/transactionAmount                    0.994048\n",
       "transactions/13/transactionFailed                    0.994048\n",
       "transactions/14/transactionId                        0.994048\n",
       "transactions/14/orderId                              0.994048\n",
       "transactions/14/paymentMethodId                      0.994048\n",
       "transactions/14/transactionAmount                    0.994048\n",
       "transactions/14/transactionFailed                    0.994048\n",
       "Length: 188, dtype: float64"
      ]
     },
     "execution_count": 78,
     "metadata": {},
     "output_type": "execute_result"
    }
   ],
   "source": [
    "data.isnull().mean()"
   ]
  },
  {
   "cell_type": "markdown",
   "metadata": {},
   "source": [
    "* There are large number of missing values in the each columns.\n",
    "* Taking columns which has less than 10% of missing values is prescribed because imputing the columns which has more missing values will effect the model during prediction.\n",
    "* Selected columns which has less than 10% of missing values."
   ]
  },
  {
   "cell_type": "code",
   "execution_count": 79,
   "metadata": {},
   "outputs": [],
   "source": [
    "impute = data[data.columns[data.isnull().mean() < 0.010]]"
   ]
  },
  {
   "cell_type": "code",
   "execution_count": 80,
   "metadata": {},
   "outputs": [
    {
     "name": "stdout",
     "output_type": "stream",
     "text": [
      "     fraudulent               customer/customerEmail customer/customerPhone  \\\n",
      "0         False               josephhoward@yahoo.com           400-108-5415   \n",
      "1          True               evansjeffery@yahoo.com         1-788-091-7546   \n",
      "2         False            andersonwilliam@yahoo.com           024.420.0375   \n",
      "3         False                rubenjuarez@yahoo.com     670.664.8168x94985   \n",
      "4          True                     uchen@malone.com         1-981-877-0870   \n",
      "5          True             robinsoncynthia@dunn.com       +65(5)8997489788   \n",
      "6          True         samuel15@saunders-rhodes.com            05045239487   \n",
      "7          True                 johnlowery@gmail.com           044-642-9860   \n",
      "8         False            jameslandry@rodriguez.com     1-885-168-1310x338   \n",
      "9          True           ubranch@rivera-parker.info     (772)964-8162x6310   \n",
      "10         True               bowenwilliam@yahoo.com    (128)248-4091x37789   \n",
      "11        False                 ksummers@hotmail.com         1-023-275-4692   \n",
      "12        False       christineklein@wright-boyd.org       897-464-6425x941   \n",
      "13        False              meganwalters@chavez.com      (522)133-8741x643   \n",
      "14        False                  caleb94@sutton.info            07452086668   \n",
      "15         True            gonzalesjackson@gmail.com     1-410-373-1228x129   \n",
      "16        False                     dana09@yahoo.com       515.708.2280x105   \n",
      "17        False                      alec27@bell.com      895-224-8246x9667   \n",
      "18        False                juliecook@hotmail.com   1-412-734-7967x67388   \n",
      "19        False                 meganberry@clark.biz   1-991-846-6271x54037   \n",
      "20        False                 psantiago@nelson.net           885.682.0863   \n",
      "21        False  harrisnicholas@mitchell-hancock.com    (922)411-5121x98410   \n",
      "22        False                davismike@hotmail.com       467-222-0933x910   \n",
      "23         True            guerramichael@hotmail.com           299-883-0904   \n",
      "24        False                  natalie98@yahoo.com            02934317865   \n",
      "25        False                  karen54@mullins.biz         1-019-956-8013   \n",
      "26        False                    avaldez@gmail.com           203-573-2041   \n",
      "27        False                 blackjoel@wright.com           621.591.0560   \n",
      "28        False                  abigail08@yahoo.com      650-489-7595x7901   \n",
      "29         True                catherine64@gmail.com       563-396-2038x288   \n",
      "..          ...                                  ...                    ...   \n",
      "138       False            jenniferperry@hotmail.com       +27(2)4721167637   \n",
      "139       False             bhorne@fuller-nelson.com         1-512-954-5541   \n",
      "140       False                 lsanchez@hotmail.com            00256720158   \n",
      "141        True             christinemills@mcgee.com          (651)355-4709   \n",
      "142       False                cuevasvicki@gmail.com           347-432-4171   \n",
      "143       False           mitchellgriffith@yahoo.com    1-321-386-6855x0101   \n",
      "144        True                  gwilcox@hotmail.com     1-114-728-2835x715   \n",
      "145       False               victorgarcia@gmail.com      937-523-6702x7281   \n",
      "146       False                 brittany60@yahoo.com          (172)959-5151   \n",
      "147       False                  fharris@hotmail.com           828.921.8126   \n",
      "148       False             mercedesfinley@roman.org      569-710-0646x4095   \n",
      "149       False              davidwalker@hotmail.com            02877590244   \n",
      "150       False                philipnelson@dean.com           534-301-8809   \n",
      "151        True                        1yf0@jedyz63t           463-609-3475   \n",
      "152       False                thomasryan@conrad.net         1-192-434-2783   \n",
      "153        True               kwalsh@lopez-gomez.biz            04103378280   \n",
      "154       False               martinezlori@gmail.com     353.413.2223x82475   \n",
      "155        True                 johnlowery@gmail.com     076-099-0630x72770   \n",
      "156       False             stevehernandez@gmail.com           716-379-6345   \n",
      "157       False                    daniel98@lamb.com     758.182.1357x89421   \n",
      "158       False                  ujackson@harris.com       852-231-3642x738   \n",
      "159       False              brittanyhicks@jones.com       579-193-1785x676   \n",
      "160        True                  deborah38@yahoo.com            06498402936   \n",
      "161        True           andre74@patrick-decker.com           150-073-8610   \n",
      "162       False            patrickcalderon@russo.net       444-358-6570x947   \n",
      "163        True      mitchellvickie@brewer-jones.com      313-124-3836x3528   \n",
      "164        True                    sbrown@hughes.biz    (250)632-6631x02499   \n",
      "165        True                 johnlowery@gmail.com       635.676.0955x524   \n",
      "166        True        ethompson@jackson-sanders.com           962.300.2250   \n",
      "167       False              dawn05@tucker-brown.com     (089)703-7360x8848   \n",
      "\n",
      "    customer/customerDevice               customer/customerIPAddress  \\\n",
      "0      yyeiaxpltf82440jnb3v                             8.129.104.40   \n",
      "1      r0jpm7xaeqqa3kr6mzum                          219.173.211.202   \n",
      "2      4m7h5ipl1shyavt6vv2r  67b7:3db8:67e0:3bea:b9d0:90c1:2b60:b9f0   \n",
      "3      slovx60t0i558may4ks0  95de:8565:5a66:792c:26e0:6cfb:7d87:11af   \n",
      "4      j0pd24k5h8dl2fqu0cz4                           196.89.235.192   \n",
      "5      hbww39m1wenbq4ymjhsx                           43.166.163.164   \n",
      "6      up7afvce5v0omniqlevq                              33.67.35.30   \n",
      "7      rjb0adai34izqvys4938                           212.144.68.190   \n",
      "8      yz4l2bgbvzra5eb5qcan  c899:ff67:6864:4365:def3:3023:655f:5181   \n",
      "9      6mpx027neyz6sh04n3ue                             86.16.65.228   \n",
      "10     qmntgod0numz62gzbla7                            231.91.253.19   \n",
      "11     2ngkzu1idwxintmxwmgn                             184.97.57.11   \n",
      "12     j8cp1uydkuyza2eo0mir    4304:521a:e1c3:766b:21f3:ac3:4ab2:5a2   \n",
      "13     qsxqbn6qjxkni7f813qn                           98.229.160.246   \n",
      "14     lixwrlvcr4g5ht600dk9   2efe:240f:cc33:306:8e47:b8d5:b466:f12a   \n",
      "15     hmkn4nmfc5q5mgify2zw                            229.2.225.188   \n",
      "16     wb0uylp0rwy01x5j1jzd                           166.148.66.158   \n",
      "17     cq5wya63n1w79o0hlnpm                            128.61.46.131   \n",
      "18     sj72s0k7wxdrxu3rcmba  61ba:a72b:5401:db1a:9833:d0da:254c:2369   \n",
      "19     2vpovzopjoqppeqfa5nw                             73.182.31.59   \n",
      "20     qx6nhdabeaj329zdri0o                            81.13.103.118   \n",
      "21     y3m3px7h46gor851y1pu                             58.13.30.104   \n",
      "22     4hzaaor6es3iyuiavyio                            162.48.39.230   \n",
      "23     webmbgi39hwejv3d90kt                           245.38.171.222   \n",
      "24     x5ts382m7jezato91fjz   89e:31aa:e9e2:90ea:aa00:4a8c:805c:20ea   \n",
      "25     ybz490o0v5781808jtzw                           61.219.235.129   \n",
      "26     bwgvb5w8dm6upvi7ucqc                            46.130.37.206   \n",
      "27     smxfahki83m4rgsvgvki  9717:f390:29c6:8d60:aee7:a054:1b90:9493   \n",
      "28     0g6v7n9n8k4pekxpqj2e                           72.251.102.162   \n",
      "29     myjxxvd3jfn1eymfy50n   1289:d2a9:c65d:8fc7:7be4:129b:d7b:cf7b   \n",
      "..                      ...                                      ...   \n",
      "138    u4gxqno1iwgs4cn6502c                          202.230.239.182   \n",
      "139    dgfa5pe2t45d1u6ox33l  118e:7887:94b6:b2a7:d2ad:8f35:c241:3149   \n",
      "140    o9cdi8b4zhrzzvp0hl2f                           49.219.239.140   \n",
      "141    zbn9it3s7yl69bjtrnqf                            45.203.99.249   \n",
      "142    gjieqcwj7nq91qkgdqb1   89f4:de6f:d732:11dd:c56:c6e1:ce7a:d888   \n",
      "143    72stamnugxuz9ls1xx98                           158.185.147.61   \n",
      "144    3pfhcvbn8itarkhxl087                           168.56.122.190   \n",
      "145    1597k0yfivb94139vcj0                           184.74.109.237   \n",
      "146    55uutypnlt0dve5gnzpx                           174.86.116.243   \n",
      "147    vq9wb7q19vwuirk37dcn  1a1c:b6f1:5c57:e9b8:28c0:edc0:9935:e55a   \n",
      "148    qh7i8ad23hd5vosiuj5j   f15:32d4:97fb:c211:3d4e:a471:af9c:6c34   \n",
      "149    96ikyqg56kakwa4eix4q  e634:6f95:c48d:8db4:8e95:dfc8:7225:1e0a   \n",
      "150    xvxnwq1qs3gglt4k4g5t    ea1d:c7d:1e39:a10d:d15f:6430:d2a6:aaf   \n",
      "151    j3a0155srqw0yeqvbgps  1fe2:1fa3:2a6f:845d:1037:2dac:2831:9d50   \n",
      "152    spoo36hycxgbo0y2tap7                             3.225.227.70   \n",
      "153    mdoe6wib243y09uaj95z  3162:1f06:9114:56d1:f5e8:bf3a:6ad0:b6f2   \n",
      "154    9ycz6r0ulpqtc04qxfke  d04c:1016:1b00:8a18:d9fc:5455:cae3:b97a   \n",
      "155    6qy6oa3nqutsyyxzc54c  f259:657f:f329:2fca:c06c:8b57:d6ac:2380   \n",
      "156    felexq5xniffmhhlqdqm  601d:b1f3:1a48:e0ef:1452:906f:21dc:b526   \n",
      "157    lu49z4dhold8niozpl4w  d6d4:7645:ca31:dba3:42b0:c89a:d065:d67d   \n",
      "158    2k850f1rbwvju71sbhqp                            99.149.12.193   \n",
      "159    b054slok65d4k1t01u4a                             89.73.189.96   \n",
      "160    vc71dbmrdaz78jgi7nhl  8f3c:9e11:63b4:73bb:20d1:86c7:ab70:2e04   \n",
      "161    4gfo1e3xeirjanhwko92   d89c:db0:5ff9:a150:9e6c:482d:c900:fb33   \n",
      "162    84z3gd4fiabz488ybv9p   2be:a4d5:eb39:fa22:2650:83d5:917f:5f23   \n",
      "163    ecu7ezz0ue67v3fce1o3                           181.90.104.120   \n",
      "164    xgv918sclaz40qlp2fee                               16.166.2.0   \n",
      "165    969zz9zdj8z4gns4sx5p   f82c:811f:8a02:e2d6:79b:fcaa:42de:570b   \n",
      "166    navessqcnmc9csfjn5cj                          203.246.172.244   \n",
      "167    lu4fgcug8dr0dwbcuui1                            132.132.95.33   \n",
      "\n",
      "                       customer/customerBillingAddress  \n",
      "0            5493 Jones Islands\\r\\nBrownside, CA 51896  \n",
      "1    356 Elizabeth Inlet Suite 120\\r\\nPort Joshuabu...  \n",
      "2     8478 Sean Ridges Apt. 441\\r\\nDavisberg, PR 72250  \n",
      "3    7769 Elizabeth Bridge Apt. 343\\r\\nNortonstad, ...  \n",
      "4    148 Russell Lodge Apt. 445\\r\\nPort Jennifersid...  \n",
      "5    65233 Hutchinson Mountains\\r\\nMartinezside, OR...  \n",
      "6         3960 Emily Fort\\r\\nStaceytown, AR 21817-3325  \n",
      "7    484 Pamela Pass\\r\\nLake Jessicaview, WI 12942-...  \n",
      "8                           USNS Price\\r\\nFPO AE 14661  \n",
      "9    6974 Robertson Common Apt. 902\\r\\nPort Juansid...  \n",
      "10           27061 Wright Forks\\r\\nCraigland, MN 59915  \n",
      "11   46383 Matthew Track Apt. 220\\r\\nRomanburgh, DC...  \n",
      "12   67636 Renee Islands Suite 307\\r\\nTeresaview, N...  \n",
      "13             7541 Olson Glens\\r\\nBallshire, IL 29415  \n",
      "14   813 Miller Lakes\\r\\nLake Christina, SD 29778-1298  \n",
      "15           566 Courtney Stream\\r\\nReedland, NH 84853  \n",
      "16   812 Moss Radial Suite 844\\r\\nNorth Patriciabur...  \n",
      "17   6174 Nicholas Cliffs Suite 855\\r\\nWebsterview,...  \n",
      "18   1750 Alicia Shoals Apt. 000\\r\\nSouth Benjamin,...  \n",
      "19       34944 Glenn Mountain\\r\\nSherryhaven, TN 36252  \n",
      "20     238 Reeves Villages\\r\\nLeslieton, SD 12318-4476  \n",
      "21   357 Barbara Crossroad\\r\\nJacobsburgh, WY 09289...  \n",
      "22   07078 Brent Ways Apt. 999\\r\\nAlvarezshire, ND ...  \n",
      "23   13553 Michelle Freeway Apt. 290\\r\\nTammyhaven,...  \n",
      "24   23831 Adams Tunnel Suite 538\\r\\nNorth David, N...  \n",
      "25   526 Ronald Cliffs\\r\\nWest Christinaville, GU 7...  \n",
      "26   304 Heather Fall\\r\\nEast Christina, UT 45880-4522  \n",
      "27             Unit 0643 Box 8346\\r\\nDPO AA 55632-6780  \n",
      "28     3764 Stanley Hollow\\r\\nEast Catherine, CT 98470  \n",
      "29   372 Michael Club Suite 553\\r\\nHerrerafort, MH ...  \n",
      "..                                                 ...  \n",
      "138  16855 Lopez Tunnel\\r\\nPort Stephanieville, PW ...  \n",
      "139         25653 Key Gateway\\r\\nPort Robert, PA 64370  \n",
      "140        044 Ronnie Run\\r\\nSouth Dawn, CA 49202-3034  \n",
      "141  5156 Greene Park Apt. 748\\r\\nNew Sandra, CA 14...  \n",
      "142  69632 Baker Prairie Suite 013\\r\\nGonzalezhaven...  \n",
      "143                 Unit 6719 Box 6044\\r\\nDPO AE 33534  \n",
      "144  77436 Denise Key Suite 828\\r\\nMayschester, AR ...  \n",
      "145                 PSC 9769, Box 5820\\r\\nAPO AP 17294  \n",
      "146  603 Sophia Flat Suite 158\\r\\nSouth Wandaland, ...  \n",
      "147  5434 Olivia Junctions Suite 109\\r\\nCrosbymouth...  \n",
      "148  03028 Brown Spring Suite 348\\r\\nElliottchester...  \n",
      "149  8765 Dyer Alley Apt. 682\\r\\nDominguezburgh, ME...  \n",
      "150   40185 Kim Motorway\\r\\nShawchester, IL 78234-1556  \n",
      "151  12350 Nicholas Greens\\r\\nLawsonborough, NC 702...  \n",
      "152  00373 Hicks Keys Suite 407\\r\\nMillerside, HI 9...  \n",
      "153       0008 Jessica Stream\\r\\nMcbridetown, MH 04017  \n",
      "154                 PSC 1505, Box 0924\\r\\nAPO AP 49055  \n",
      "155  687 Rogers Bridge Suite 780\\r\\nValdezburgh, IN...  \n",
      "156   904 James Route Suite 595\\r\\nLake Ruth, CO 66976  \n",
      "157  6698 David Squares Apt. 540\\r\\nWestburgh, MA 7...  \n",
      "158    664 Maurice Row Suite 634\\r\\nNew Jodi, OR 56525  \n",
      "159         233 Jessica Lights\\r\\nPort Sonya, SC 47511  \n",
      "160  391 Rogers Flats Apt. 287\\r\\nNorth Rickchester...  \n",
      "161  55197 Jeffrey Burgs Suite 700\\r\\nGardnerport, ...  \n",
      "162  6223 Cheyenne Villages Suite 751\\r\\nCoryboroug...  \n",
      "163  829 Ramirez Dam Suite 648\\r\\nGatesview, OR 556...  \n",
      "164  9472 Pacheco Islands Suite 940\\r\\nDrewburgh, A...  \n",
      "165         548 Bryant Inlet\\r\\nVeronicaside, OK 00522  \n",
      "166  16953 Jennifer Springs\\r\\nKathybury, IL 02095-...  \n",
      "167  130 Kimberly Junctions\\r\\nEricmouth, KS 59756-...  \n",
      "\n",
      "[168 rows x 6 columns]\n"
     ]
    }
   ],
   "source": [
    "print(impute)"
   ]
  },
  {
   "cell_type": "code",
   "execution_count": 81,
   "metadata": {},
   "outputs": [
    {
     "data": {
      "text/html": [
       "<div>\n",
       "<style scoped>\n",
       "    .dataframe tbody tr th:only-of-type {\n",
       "        vertical-align: middle;\n",
       "    }\n",
       "\n",
       "    .dataframe tbody tr th {\n",
       "        vertical-align: top;\n",
       "    }\n",
       "\n",
       "    .dataframe thead th {\n",
       "        text-align: right;\n",
       "    }\n",
       "</style>\n",
       "<table border=\"1\" class=\"dataframe\">\n",
       "  <thead>\n",
       "    <tr style=\"text-align: right;\">\n",
       "      <th></th>\n",
       "      <th>fraudulent</th>\n",
       "      <th>customer/customerEmail</th>\n",
       "      <th>customer/customerPhone</th>\n",
       "      <th>customer/customerDevice</th>\n",
       "      <th>customer/customerIPAddress</th>\n",
       "      <th>customer/customerBillingAddress</th>\n",
       "    </tr>\n",
       "  </thead>\n",
       "  <tbody>\n",
       "    <tr>\n",
       "      <th>0</th>\n",
       "      <td>False</td>\n",
       "      <td>josephhoward@yahoo.com</td>\n",
       "      <td>400-108-5415</td>\n",
       "      <td>yyeiaxpltf82440jnb3v</td>\n",
       "      <td>8.129.104.40</td>\n",
       "      <td>5493 Jones Islands\\r\\nBrownside, CA 51896</td>\n",
       "    </tr>\n",
       "    <tr>\n",
       "      <th>1</th>\n",
       "      <td>True</td>\n",
       "      <td>evansjeffery@yahoo.com</td>\n",
       "      <td>1-788-091-7546</td>\n",
       "      <td>r0jpm7xaeqqa3kr6mzum</td>\n",
       "      <td>219.173.211.202</td>\n",
       "      <td>356 Elizabeth Inlet Suite 120\\r\\nPort Joshuabu...</td>\n",
       "    </tr>\n",
       "  </tbody>\n",
       "</table>\n",
       "</div>"
      ],
      "text/plain": [
       "   fraudulent  customer/customerEmail customer/customerPhone  \\\n",
       "0       False  josephhoward@yahoo.com           400-108-5415   \n",
       "1        True  evansjeffery@yahoo.com         1-788-091-7546   \n",
       "\n",
       "  customer/customerDevice customer/customerIPAddress  \\\n",
       "0    yyeiaxpltf82440jnb3v               8.129.104.40   \n",
       "1    r0jpm7xaeqqa3kr6mzum            219.173.211.202   \n",
       "\n",
       "                     customer/customerBillingAddress  \n",
       "0          5493 Jones Islands\\r\\nBrownside, CA 51896  \n",
       "1  356 Elizabeth Inlet Suite 120\\r\\nPort Joshuabu...  "
      ]
     },
     "execution_count": 81,
     "metadata": {},
     "output_type": "execute_result"
    }
   ],
   "source": [
    "impute.head(2)"
   ]
  },
  {
   "cell_type": "markdown",
   "metadata": {},
   "source": [
    "* There are no missing values in these columns.\n",
    "* Checking their Data types."
   ]
  },
  {
   "cell_type": "code",
   "execution_count": 82,
   "metadata": {},
   "outputs": [
    {
     "data": {
      "text/plain": [
       "fraudulent                         0\n",
       "customer/customerEmail             0\n",
       "customer/customerPhone             0\n",
       "customer/customerDevice            0\n",
       "customer/customerIPAddress         0\n",
       "customer/customerBillingAddress    0\n",
       "dtype: int64"
      ]
     },
     "execution_count": 82,
     "metadata": {},
     "output_type": "execute_result"
    }
   ],
   "source": [
    "impute.isnull().sum()"
   ]
  },
  {
   "cell_type": "code",
   "execution_count": 83,
   "metadata": {},
   "outputs": [
    {
     "data": {
      "text/plain": [
       "fraudulent                           bool\n",
       "customer/customerEmail             object\n",
       "customer/customerPhone             object\n",
       "customer/customerDevice            object\n",
       "customer/customerIPAddress         object\n",
       "customer/customerBillingAddress    object\n",
       "dtype: object"
      ]
     },
     "execution_count": 83,
     "metadata": {},
     "output_type": "execute_result"
    }
   ],
   "source": [
    "impute.dtypes"
   ]
  },
  {
   "cell_type": "markdown",
   "metadata": {},
   "source": [
    "### Visualization library"
   ]
  },
  {
   "cell_type": "code",
   "execution_count": 84,
   "metadata": {},
   "outputs": [],
   "source": [
    "import seaborn as sns\n",
    "sns.set(style=\"whitegrid\")\n",
    "import matplotlib.pyplot as plt"
   ]
  },
  {
   "cell_type": "markdown",
   "metadata": {},
   "source": [
    "### Target variable"
   ]
  },
  {
   "cell_type": "code",
   "execution_count": 85,
   "metadata": {},
   "outputs": [
    {
     "data": {
      "text/plain": [
       "False    107\n",
       "True      61\n",
       "Name: fraudulent, dtype: int64"
      ]
     },
     "execution_count": 85,
     "metadata": {},
     "output_type": "execute_result"
    }
   ],
   "source": [
    "## count of Target variable\n",
    "data ['fraudulent'].value_counts()"
   ]
  },
  {
   "cell_type": "code",
   "execution_count": 86,
   "metadata": {},
   "outputs": [
    {
     "data": {
      "image/png": "[encoded data removed]",
      "text/plain": [
       "<Figure size 432x288 with 1 Axes>"
      ]
     },
     "metadata": {},
     "output_type": "display_data"
    }
   ],
   "source": [
    "sns.countplot(x=\"fraudulent\",  data = data)\n",
    "plt.show()"
   ]
  },
  {
   "cell_type": "markdown",
   "metadata": {},
   "source": [
    "### LabelEncoder"
   ]
  },
  {
   "cell_type": "markdown",
   "metadata": {},
   "source": [
    "* LabelEncoder is a technique to convert categorical variable to numerical."
   ]
  },
  {
   "cell_type": "code",
   "execution_count": 87,
   "metadata": {},
   "outputs": [],
   "source": [
    "# Import label encoder \n",
    "from sklearn import preprocessing \n",
    "  \n",
    "# label_encoder object knows how to understand word labels. \n",
    "label_encoder = preprocessing.LabelEncoder()"
   ]
  },
  {
   "cell_type": "code",
   "execution_count": 88,
   "metadata": {
    "scrolled": true
   },
   "outputs": [
    {
     "name": "stderr",
     "output_type": "stream",
     "text": [
      "C:\\Users\\kk\\Anaconda3\\lib\\site-packages\\ipykernel_launcher.py:1: SettingWithCopyWarning: \n",
      "A value is trying to be set on a copy of a slice from a DataFrame.\n",
      "Try using .loc[row_indexer,col_indexer] = value instead\n",
      "\n",
      "See the caveats in the documentation: http://pandas.pydata.org/pandas-docs/stable/indexing.html#indexing-view-versus-copy\n",
      "  \"\"\"Entry point for launching an IPython kernel.\n",
      "C:\\Users\\kk\\Anaconda3\\lib\\site-packages\\ipykernel_launcher.py:2: SettingWithCopyWarning: \n",
      "A value is trying to be set on a copy of a slice from a DataFrame.\n",
      "Try using .loc[row_indexer,col_indexer] = value instead\n",
      "\n",
      "See the caveats in the documentation: http://pandas.pydata.org/pandas-docs/stable/indexing.html#indexing-view-versus-copy\n",
      "  \n",
      "C:\\Users\\kk\\Anaconda3\\lib\\site-packages\\ipykernel_launcher.py:3: SettingWithCopyWarning: \n",
      "A value is trying to be set on a copy of a slice from a DataFrame.\n",
      "Try using .loc[row_indexer,col_indexer] = value instead\n",
      "\n",
      "See the caveats in the documentation: http://pandas.pydata.org/pandas-docs/stable/indexing.html#indexing-view-versus-copy\n",
      "  This is separate from the ipykernel package so we can avoid doing imports until\n",
      "C:\\Users\\kk\\Anaconda3\\lib\\site-packages\\ipykernel_launcher.py:4: SettingWithCopyWarning: \n",
      "A value is trying to be set on a copy of a slice from a DataFrame.\n",
      "Try using .loc[row_indexer,col_indexer] = value instead\n",
      "\n",
      "See the caveats in the documentation: http://pandas.pydata.org/pandas-docs/stable/indexing.html#indexing-view-versus-copy\n",
      "  after removing the cwd from sys.path.\n",
      "C:\\Users\\kk\\Anaconda3\\lib\\site-packages\\ipykernel_launcher.py:5: SettingWithCopyWarning: \n",
      "A value is trying to be set on a copy of a slice from a DataFrame.\n",
      "Try using .loc[row_indexer,col_indexer] = value instead\n",
      "\n",
      "See the caveats in the documentation: http://pandas.pydata.org/pandas-docs/stable/indexing.html#indexing-view-versus-copy\n",
      "  \"\"\"\n"
     ]
    }
   ],
   "source": [
    "impute['customer/customerEmail'] = label_encoder.fit_transform(impute['customer/customerEmail'])\n",
    "impute['customer/customerPhone'] = label_encoder.fit_transform(impute['customer/customerPhone'])\n",
    "impute['customer/customerDevice'] = label_encoder.fit_transform(impute['customer/customerDevice'])\n",
    "impute['customer/customerIPAddress'] = label_encoder.fit_transform(impute['customer/customerIPAddress'])\n",
    "impute['customer/customerBillingAddress'] = label_encoder.fit_transform(impute['customer/customerBillingAddress'])"
   ]
  },
  {
   "cell_type": "markdown",
   "metadata": {},
   "source": [
    "### Columns after Label Encoding"
   ]
  },
  {
   "cell_type": "code",
   "execution_count": 89,
   "metadata": {
    "scrolled": true
   },
   "outputs": [
    {
     "data": {
      "text/html": [
       "<div>\n",
       "<style scoped>\n",
       "    .dataframe tbody tr th:only-of-type {\n",
       "        vertical-align: middle;\n",
       "    }\n",
       "\n",
       "    .dataframe tbody tr th {\n",
       "        vertical-align: top;\n",
       "    }\n",
       "\n",
       "    .dataframe thead th {\n",
       "        text-align: right;\n",
       "    }\n",
       "</style>\n",
       "<table border=\"1\" class=\"dataframe\">\n",
       "  <thead>\n",
       "    <tr style=\"text-align: right;\">\n",
       "      <th></th>\n",
       "      <th>fraudulent</th>\n",
       "      <th>customer/customerEmail</th>\n",
       "      <th>customer/customerPhone</th>\n",
       "      <th>customer/customerDevice</th>\n",
       "      <th>customer/customerIPAddress</th>\n",
       "      <th>customer/customerBillingAddress</th>\n",
       "    </tr>\n",
       "  </thead>\n",
       "  <tbody>\n",
       "    <tr>\n",
       "      <th>0</th>\n",
       "      <td>False</td>\n",
       "      <td>73</td>\n",
       "      <td>115</td>\n",
       "      <td>158</td>\n",
       "      <td>111</td>\n",
       "      <td>87</td>\n",
       "    </tr>\n",
       "    <tr>\n",
       "      <th>1</th>\n",
       "      <td>True</td>\n",
       "      <td>48</td>\n",
       "      <td>84</td>\n",
       "      <td>116</td>\n",
       "      <td>48</td>\n",
       "      <td>51</td>\n",
       "    </tr>\n",
       "  </tbody>\n",
       "</table>\n",
       "</div>"
      ],
      "text/plain": [
       "   fraudulent  customer/customerEmail  customer/customerPhone  \\\n",
       "0       False                      73                     115   \n",
       "1        True                      48                      84   \n",
       "\n",
       "   customer/customerDevice  customer/customerIPAddress  \\\n",
       "0                      158                         111   \n",
       "1                      116                          48   \n",
       "\n",
       "   customer/customerBillingAddress  \n",
       "0                               87  \n",
       "1                               51  "
      ]
     },
     "execution_count": 89,
     "metadata": {},
     "output_type": "execute_result"
    }
   ],
   "source": [
    "impute.head(2)"
   ]
  },
  {
   "cell_type": "code",
   "execution_count": 90,
   "metadata": {},
   "outputs": [
    {
     "data": {
      "text/plain": [
       "fraudulent                          bool\n",
       "customer/customerEmail             int32\n",
       "customer/customerPhone             int32\n",
       "customer/customerDevice            int32\n",
       "customer/customerIPAddress         int32\n",
       "customer/customerBillingAddress    int32\n",
       "dtype: object"
      ]
     },
     "execution_count": 90,
     "metadata": {},
     "output_type": "execute_result"
    }
   ],
   "source": [
    "impute.dtypes"
   ]
  },
  {
   "cell_type": "markdown",
   "metadata": {},
   "source": [
    "### Train & Test Split"
   ]
  },
  {
   "cell_type": "code",
   "execution_count": 91,
   "metadata": {},
   "outputs": [],
   "source": [
    "from sklearn.model_selection import train_test_split"
   ]
  },
  {
   "cell_type": "code",
   "execution_count": 92,
   "metadata": {},
   "outputs": [],
   "source": [
    "X = impute.drop('fraudulent', axis = 1)\n",
    "y = impute['fraudulent']\n",
    "X_train, X_test, y_train, y_test = train_test_split(X, y, test_size=0.30, random_state=123)"
   ]
  },
  {
   "cell_type": "markdown",
   "metadata": {},
   "source": [
    "### Checking shape after splitting"
   ]
  },
  {
   "cell_type": "code",
   "execution_count": 93,
   "metadata": {},
   "outputs": [
    {
     "name": "stdout",
     "output_type": "stream",
     "text": [
      "(117, 5)\n",
      "(51, 5)\n",
      "(117,)\n",
      "(51,)\n"
     ]
    }
   ],
   "source": [
    "print(X_train.shape)\n",
    "print(X_test.shape)\n",
    "print(y_train.shape)\n",
    "print(y_test.shape)"
   ]
  },
  {
   "cell_type": "markdown",
   "metadata": {},
   "source": [
    "* No null values "
   ]
  },
  {
   "cell_type": "code",
   "execution_count": 94,
   "metadata": {},
   "outputs": [
    {
     "data": {
      "text/plain": [
       "customer/customerEmail             0\n",
       "customer/customerPhone             0\n",
       "customer/customerDevice            0\n",
       "customer/customerIPAddress         0\n",
       "customer/customerBillingAddress    0\n",
       "dtype: int64"
      ]
     },
     "execution_count": 94,
     "metadata": {},
     "output_type": "execute_result"
    }
   ],
   "source": [
    "X_train.isnull().sum()"
   ]
  },
  {
   "cell_type": "code",
   "execution_count": 95,
   "metadata": {},
   "outputs": [
    {
     "data": {
      "text/plain": [
       "customer/customerEmail             0\n",
       "customer/customerPhone             0\n",
       "customer/customerDevice            0\n",
       "customer/customerIPAddress         0\n",
       "customer/customerBillingAddress    0\n",
       "dtype: int64"
      ]
     },
     "execution_count": 95,
     "metadata": {},
     "output_type": "execute_result"
    }
   ],
   "source": [
    "X_test.isnull().sum()"
   ]
  },
  {
   "cell_type": "markdown",
   "metadata": {},
   "source": [
    "* Selecting numerical attributes."
   ]
  },
  {
   "cell_type": "code",
   "execution_count": 96,
   "metadata": {},
   "outputs": [
    {
     "data": {
      "text/plain": [
       "Index(['customer/customerEmail', 'customer/customerPhone',\n",
       "       'customer/customerDevice', 'customer/customerIPAddress',\n",
       "       'customer/customerBillingAddress'],\n",
       "      dtype='object')"
      ]
     },
     "execution_count": 96,
     "metadata": {},
     "output_type": "execute_result"
    }
   ],
   "source": [
    "num_attr=X_train.select_dtypes(['int32']).columns\n",
    "num_attr"
   ]
  },
  {
   "cell_type": "markdown",
   "metadata": {},
   "source": [
    "### Corrplot"
   ]
  },
  {
   "cell_type": "code",
   "execution_count": 97,
   "metadata": {},
   "outputs": [
    {
     "data": {
      "image/png": "[encoded data removed]",
      "text/plain": [
       "<Figure size 1440x720 with 2 Axes>"
      ]
     },
     "metadata": {},
     "output_type": "display_data"
    }
   ],
   "source": [
    "fig, ax = plt.subplots()\n",
    "fig.set_size_inches(20, 10)\n",
    "corr = impute.corr()\n",
    "ax = sns.heatmap(corr, annot=True, linewidths=.5, cbar=True)"
   ]
  },
  {
   "cell_type": "markdown",
   "metadata": {},
   "source": [
    "### StandardScaler"
   ]
  },
  {
   "cell_type": "code",
   "execution_count": 98,
   "metadata": {},
   "outputs": [],
   "source": [
    "from sklearn.preprocessing import StandardScaler"
   ]
  },
  {
   "cell_type": "code",
   "execution_count": 99,
   "metadata": {},
   "outputs": [
    {
     "data": {
      "text/plain": [
       "StandardScaler(copy=True, with_mean=True, with_std=True)"
      ]
     },
     "execution_count": 99,
     "metadata": {},
     "output_type": "execute_result"
    }
   ],
   "source": [
    "scaler = StandardScaler()\n",
    "scaler.fit(X_train[num_attr])"
   ]
  },
  {
   "cell_type": "code",
   "execution_count": 100,
   "metadata": {},
   "outputs": [
    {
     "data": {
      "text/plain": [
       "array([75.02564103, 77.56410256, 83.24786325, 78.4017094 , 81.11111111])"
      ]
     },
     "execution_count": 100,
     "metadata": {},
     "output_type": "execute_result"
    }
   ],
   "source": [
    "scaler.mean_"
   ]
  },
  {
   "cell_type": "code",
   "execution_count": 101,
   "metadata": {},
   "outputs": [
    {
     "data": {
      "text/plain": [
       "array([2085.15318869, 2216.50230112, 2479.36591424, 2255.53948426,\n",
       "       2090.13295347])"
      ]
     },
     "execution_count": 101,
     "metadata": {},
     "output_type": "execute_result"
    }
   ],
   "source": [
    "scaler.var_"
   ]
  },
  {
   "cell_type": "code",
   "execution_count": 102,
   "metadata": {},
   "outputs": [
    {
     "name": "stderr",
     "output_type": "stream",
     "text": [
      "C:\\Users\\kk\\Anaconda3\\lib\\site-packages\\ipykernel_launcher.py:1: SettingWithCopyWarning: \n",
      "A value is trying to be set on a copy of a slice from a DataFrame.\n",
      "Try using .loc[row_indexer,col_indexer] = value instead\n",
      "\n",
      "See the caveats in the documentation: http://pandas.pydata.org/pandas-docs/stable/indexing.html#indexing-view-versus-copy\n",
      "  \"\"\"Entry point for launching an IPython kernel.\n",
      "C:\\Users\\kk\\Anaconda3\\lib\\site-packages\\pandas\\core\\indexing.py:543: SettingWithCopyWarning: \n",
      "A value is trying to be set on a copy of a slice from a DataFrame.\n",
      "Try using .loc[row_indexer,col_indexer] = value instead\n",
      "\n",
      "See the caveats in the documentation: http://pandas.pydata.org/pandas-docs/stable/indexing.html#indexing-view-versus-copy\n",
      "  self.obj[item] = s\n",
      "C:\\Users\\kk\\Anaconda3\\lib\\site-packages\\ipykernel_launcher.py:2: SettingWithCopyWarning: \n",
      "A value is trying to be set on a copy of a slice from a DataFrame.\n",
      "Try using .loc[row_indexer,col_indexer] = value instead\n",
      "\n",
      "See the caveats in the documentation: http://pandas.pydata.org/pandas-docs/stable/indexing.html#indexing-view-versus-copy\n",
      "  \n",
      "C:\\Users\\kk\\Anaconda3\\lib\\site-packages\\pandas\\core\\indexing.py:543: SettingWithCopyWarning: \n",
      "A value is trying to be set on a copy of a slice from a DataFrame.\n",
      "Try using .loc[row_indexer,col_indexer] = value instead\n",
      "\n",
      "See the caveats in the documentation: http://pandas.pydata.org/pandas-docs/stable/indexing.html#indexing-view-versus-copy\n",
      "  self.obj[item] = s\n"
     ]
    }
   ],
   "source": [
    "X_train[num_attr]=scaler.transform(X_train[num_attr])\n",
    "X_test[num_attr]=scaler.transform(X_test[num_attr])"
   ]
  },
  {
   "cell_type": "markdown",
   "metadata": {},
   "source": [
    "### After Standardization"
   ]
  },
  {
   "cell_type": "code",
   "execution_count": 103,
   "metadata": {},
   "outputs": [
    {
     "data": {
      "text/html": [
       "<div>\n",
       "<style scoped>\n",
       "    .dataframe tbody tr th:only-of-type {\n",
       "        vertical-align: middle;\n",
       "    }\n",
       "\n",
       "    .dataframe tbody tr th {\n",
       "        vertical-align: top;\n",
       "    }\n",
       "\n",
       "    .dataframe thead th {\n",
       "        text-align: right;\n",
       "    }\n",
       "</style>\n",
       "<table border=\"1\" class=\"dataframe\">\n",
       "  <thead>\n",
       "    <tr style=\"text-align: right;\">\n",
       "      <th></th>\n",
       "      <th>customer/customerEmail</th>\n",
       "      <th>customer/customerPhone</th>\n",
       "      <th>customer/customerDevice</th>\n",
       "      <th>customer/customerIPAddress</th>\n",
       "      <th>customer/customerBillingAddress</th>\n",
       "    </tr>\n",
       "  </thead>\n",
       "  <tbody>\n",
       "    <tr>\n",
       "      <th>29</th>\n",
       "      <td>-1.051730</td>\n",
       "      <td>1.007565</td>\n",
       "      <td>0.256102</td>\n",
       "      <td>-1.440263</td>\n",
       "      <td>-0.593008</td>\n",
       "    </tr>\n",
       "    <tr>\n",
       "      <th>35</th>\n",
       "      <td>-1.402119</td>\n",
       "      <td>1.028805</td>\n",
       "      <td>0.135604</td>\n",
       "      <td>-0.429577</td>\n",
       "      <td>0.981865</td>\n",
       "    </tr>\n",
       "  </tbody>\n",
       "</table>\n",
       "</div>"
      ],
      "text/plain": [
       "    customer/customerEmail  customer/customerPhone  customer/customerDevice  \\\n",
       "29               -1.051730                1.007565                 0.256102   \n",
       "35               -1.402119                1.028805                 0.135604   \n",
       "\n",
       "    customer/customerIPAddress  customer/customerBillingAddress  \n",
       "29                   -1.440263                        -0.593008  \n",
       "35                   -0.429577                         0.981865  "
      ]
     },
     "execution_count": 103,
     "metadata": {},
     "output_type": "execute_result"
    }
   ],
   "source": [
    "X_train.head(2)"
   ]
  },
  {
   "cell_type": "code",
   "execution_count": 104,
   "metadata": {},
   "outputs": [
    {
     "data": {
      "text/html": [
       "<div>\n",
       "<style scoped>\n",
       "    .dataframe tbody tr th:only-of-type {\n",
       "        vertical-align: middle;\n",
       "    }\n",
       "\n",
       "    .dataframe tbody tr th {\n",
       "        vertical-align: top;\n",
       "    }\n",
       "\n",
       "    .dataframe thead th {\n",
       "        text-align: right;\n",
       "    }\n",
       "</style>\n",
       "<table border=\"1\" class=\"dataframe\">\n",
       "  <thead>\n",
       "    <tr style=\"text-align: right;\">\n",
       "      <th></th>\n",
       "      <th>customer/customerEmail</th>\n",
       "      <th>customer/customerPhone</th>\n",
       "      <th>customer/customerDevice</th>\n",
       "      <th>customer/customerIPAddress</th>\n",
       "      <th>customer/customerBillingAddress</th>\n",
       "    </tr>\n",
       "  </thead>\n",
       "  <tbody>\n",
       "    <tr>\n",
       "      <th>63</th>\n",
       "      <td>-0.504246</td>\n",
       "      <td>0.561513</td>\n",
       "      <td>0.195853</td>\n",
       "      <td>-0.471689</td>\n",
       "      <td>-0.243036</td>\n",
       "    </tr>\n",
       "    <tr>\n",
       "      <th>86</th>\n",
       "      <td>-0.438548</td>\n",
       "      <td>0.582754</td>\n",
       "      <td>-1.430874</td>\n",
       "      <td>-0.008458</td>\n",
       "      <td>1.156851</td>\n",
       "    </tr>\n",
       "  </tbody>\n",
       "</table>\n",
       "</div>"
      ],
      "text/plain": [
       "    customer/customerEmail  customer/customerPhone  customer/customerDevice  \\\n",
       "63               -0.504246                0.561513                 0.195853   \n",
       "86               -0.438548                0.582754                -1.430874   \n",
       "\n",
       "    customer/customerIPAddress  customer/customerBillingAddress  \n",
       "63                   -0.471689                        -0.243036  \n",
       "86                   -0.008458                         1.156851  "
      ]
     },
     "execution_count": 104,
     "metadata": {},
     "output_type": "execute_result"
    }
   ],
   "source": [
    "X_test.head(2)"
   ]
  },
  {
   "cell_type": "markdown",
   "metadata": {},
   "source": [
    "### Model Building"
   ]
  },
  {
   "cell_type": "markdown",
   "metadata": {},
   "source": [
    "### Logistic Regression"
   ]
  },
  {
   "cell_type": "code",
   "execution_count": 105,
   "metadata": {},
   "outputs": [],
   "source": [
    "from sklearn.linear_model import LogisticRegression\n",
    "from sklearn.metrics import classification_report\n",
    "from sklearn.metrics import confusion_matrix,accuracy_score"
   ]
  },
  {
   "cell_type": "code",
   "execution_count": 106,
   "metadata": {},
   "outputs": [
    {
     "name": "stderr",
     "output_type": "stream",
     "text": [
      "C:\\Users\\kk\\Anaconda3\\lib\\site-packages\\sklearn\\linear_model\\logistic.py:432: FutureWarning: Default solver will be changed to 'lbfgs' in 0.22. Specify a solver to silence this warning.\n",
      "  FutureWarning)\n"
     ]
    },
    {
     "data": {
      "text/plain": [
       "LogisticRegression(C=1.0, class_weight=None, dual=False, fit_intercept=True,\n",
       "                   intercept_scaling=1, l1_ratio=None, max_iter=100,\n",
       "                   multi_class='warn', n_jobs=None, penalty='l2',\n",
       "                   random_state=None, solver='warn', tol=0.0001, verbose=0,\n",
       "                   warm_start=False)"
      ]
     },
     "execution_count": 106,
     "metadata": {},
     "output_type": "execute_result"
    }
   ],
   "source": [
    "logmodel = LogisticRegression()\n",
    "logmodel.fit(X_train, y_train)"
   ]
  },
  {
   "cell_type": "code",
   "execution_count": 107,
   "metadata": {},
   "outputs": [
    {
     "name": "stdout",
     "output_type": "stream",
     "text": [
      "              precision    recall  f1-score   support\n",
      "\n",
      "       False       0.72      0.89      0.80        38\n",
      "        True       0.00      0.00      0.00        13\n",
      "\n",
      "    accuracy                           0.67        51\n",
      "   macro avg       0.36      0.45      0.40        51\n",
      "weighted avg       0.54      0.67      0.60        51\n",
      "\n",
      "[[34  4]\n",
      " [13  0]]\n",
      "0.6666666666666666\n"
     ]
    }
   ],
   "source": [
    "predictions = logmodel.predict(X_test)\n",
    "print(classification_report(y_test, predictions))\n",
    "print(confusion_matrix(y_test, predictions))\n",
    "print(accuracy_score(y_test, predictions))"
   ]
  },
  {
   "cell_type": "markdown",
   "metadata": {},
   "source": [
    "### Heatmap of Confusion Matrix"
   ]
  },
  {
   "cell_type": "code",
   "execution_count": 108,
   "metadata": {},
   "outputs": [
    {
     "data": {
      "image/png": "[encoded data removed]",
      "text/plain": [
       "<Figure size 432x288 with 2 Axes>"
      ]
     },
     "metadata": {},
     "output_type": "display_data"
    }
   ],
   "source": [
    "sns.heatmap(pd.DataFrame(confusion_matrix(y_test,predictions)))\n",
    "plt.show()"
   ]
  },
  {
   "cell_type": "markdown",
   "metadata": {},
   "source": [
    "### Naive Bayes Classifier"
   ]
  },
  {
   "cell_type": "code",
   "execution_count": 109,
   "metadata": {},
   "outputs": [],
   "source": [
    "#Import Gaussian Naive Bayes model\n",
    "from sklearn.naive_bayes import GaussianNB\n",
    "\n",
    "#Create a Gaussian Classifier\n",
    "gnb = GaussianNB()\n",
    "\n",
    "#Train the model using the training sets\n",
    "gnb.fit(X_train, y_train)\n",
    "\n",
    "#Predict the response for test dataset\n",
    "y_gnb = gnb.predict(X_test)"
   ]
  },
  {
   "cell_type": "code",
   "execution_count": 110,
   "metadata": {},
   "outputs": [
    {
     "name": "stdout",
     "output_type": "stream",
     "text": [
      "Accuracy: 0.6470588235294118\n"
     ]
    }
   ],
   "source": [
    "#Import scikit-learn metrics module for accuracy calculation\n",
    "from sklearn import metrics\n",
    "\n",
    "# Model Accuracy, how often is the classifier correct?\n",
    "print(\"Accuracy:\",metrics.accuracy_score(y_test, y_gnb))"
   ]
  },
  {
   "cell_type": "markdown",
   "metadata": {},
   "source": [
    "###  Build Random Forest Classifier"
   ]
  },
  {
   "cell_type": "code",
   "execution_count": 111,
   "metadata": {},
   "outputs": [],
   "source": [
    "from sklearn.ensemble import RandomForestClassifier"
   ]
  },
  {
   "cell_type": "code",
   "execution_count": 112,
   "metadata": {},
   "outputs": [
    {
     "data": {
      "text/plain": [
       "RandomForestClassifier(bootstrap=True, class_weight=None, criterion='gini',\n",
       "                       max_depth=8, max_features='auto', max_leaf_nodes=None,\n",
       "                       min_impurity_decrease=0.0, min_impurity_split=None,\n",
       "                       min_samples_leaf=1, min_samples_split=2,\n",
       "                       min_weight_fraction_leaf=0.0, n_estimators=10,\n",
       "                       n_jobs=None, oob_score=False, random_state=None,\n",
       "                       verbose=0, warm_start=False)"
      ]
     },
     "execution_count": 112,
     "metadata": {},
     "output_type": "execute_result"
    }
   ],
   "source": [
    "clf = RandomForestClassifier(n_estimators=10,max_depth=8)\n",
    "clf.fit(X=X_train, y=y_train)"
   ]
  },
  {
   "cell_type": "code",
   "execution_count": 113,
   "metadata": {},
   "outputs": [],
   "source": [
    "y_pred = clf.predict(X_test)"
   ]
  },
  {
   "cell_type": "code",
   "execution_count": 114,
   "metadata": {},
   "outputs": [
    {
     "name": "stdout",
     "output_type": "stream",
     "text": [
      "              precision    recall  f1-score   support\n",
      "\n",
      "       False       0.74      0.76      0.75        38\n",
      "        True       0.25      0.23      0.24        13\n",
      "\n",
      "    accuracy                           0.63        51\n",
      "   macro avg       0.50      0.50      0.50        51\n",
      "weighted avg       0.62      0.63      0.62        51\n",
      "\n",
      "[[29  9]\n",
      " [10  3]]\n",
      "0.6274509803921569\n"
     ]
    }
   ],
   "source": [
    "print(classification_report(y_test, y_pred))\n",
    "print(confusion_matrix(y_test, y_pred))\n",
    "print(accuracy_score(y_test, y_pred))"
   ]
  },
  {
   "cell_type": "code",
   "execution_count": 115,
   "metadata": {},
   "outputs": [
    {
     "data": {
      "text/plain": [
       "array([0.23568142, 0.20983488, 0.21117387, 0.12278033, 0.2205295 ])"
      ]
     },
     "execution_count": 115,
     "metadata": {},
     "output_type": "execute_result"
    }
   ],
   "source": [
    "clf.feature_importances_"
   ]
  },
  {
   "cell_type": "code",
   "execution_count": 116,
   "metadata": {},
   "outputs": [
    {
     "name": "stdout",
     "output_type": "stream",
     "text": [
      "[3 1 2 4 0]\n"
     ]
    },
    {
     "data": {
      "text/html": [
       "<div>\n",
       "<style scoped>\n",
       "    .dataframe tbody tr th:only-of-type {\n",
       "        vertical-align: middle;\n",
       "    }\n",
       "\n",
       "    .dataframe tbody tr th {\n",
       "        vertical-align: top;\n",
       "    }\n",
       "\n",
       "    .dataframe thead th {\n",
       "        text-align: right;\n",
       "    }\n",
       "</style>\n",
       "<table border=\"1\" class=\"dataframe\">\n",
       "  <thead>\n",
       "    <tr style=\"text-align: right;\">\n",
       "      <th></th>\n",
       "      <th>0</th>\n",
       "      <th>1</th>\n",
       "      <th>2</th>\n",
       "      <th>3</th>\n",
       "      <th>4</th>\n",
       "    </tr>\n",
       "  </thead>\n",
       "  <tbody>\n",
       "    <tr>\n",
       "      <th>0</th>\n",
       "      <td>customer/customerIPAddress</td>\n",
       "      <td>customer/customerPhone</td>\n",
       "      <td>customer/customerDevice</td>\n",
       "      <td>customer/customerBillingAddress</td>\n",
       "      <td>customer/customerEmail</td>\n",
       "    </tr>\n",
       "    <tr>\n",
       "      <th>1</th>\n",
       "      <td>0.12278</td>\n",
       "      <td>0.209835</td>\n",
       "      <td>0.211174</td>\n",
       "      <td>0.220529</td>\n",
       "      <td>0.235681</td>\n",
       "    </tr>\n",
       "  </tbody>\n",
       "</table>\n",
       "</div>"
      ],
      "text/plain": [
       "                            0                       1  \\\n",
       "0  customer/customerIPAddress  customer/customerPhone   \n",
       "1                     0.12278                0.209835   \n",
       "\n",
       "                         2                                3  \\\n",
       "0  customer/customerDevice  customer/customerBillingAddress   \n",
       "1                 0.211174                         0.220529   \n",
       "\n",
       "                        4  \n",
       "0  customer/customerEmail  \n",
       "1                0.235681  "
      ]
     },
     "execution_count": 116,
     "metadata": {},
     "output_type": "execute_result"
    }
   ],
   "source": [
    "importances = clf.feature_importances_\n",
    "indices = np.argsort(importances)\n",
    "print(indices)\n",
    "pd.DataFrame([X_train.columns[indices],np.sort(importances)])"
   ]
  },
  {
   "cell_type": "code",
   "execution_count": 117,
   "metadata": {},
   "outputs": [
    {
     "data": {
      "image/png": "[encoded data removed]",
      "text/plain": [
       "<Figure size 432x288 with 1 Axes>"
      ]
     },
     "metadata": {},
     "output_type": "display_data"
    }
   ],
   "source": [
    "import matplotlib.pyplot as plt\n",
    "%matplotlib inline\n",
    "features = X_train.columns\n",
    "\n",
    "plt.title('Feature Importances')\n",
    "plt.barh(range(len(indices)),importances[indices], color='g')\n",
    "plt.yticks(range(len(indices)), [features[i] for i in indices])\n",
    "plt.xlabel('Relative Importance')\n",
    "plt.show()"
   ]
  },
  {
   "cell_type": "markdown",
   "metadata": {},
   "source": [
    "### GridSearch"
   ]
  },
  {
   "cell_type": "code",
   "execution_count": 118,
   "metadata": {},
   "outputs": [],
   "source": [
    "from sklearn.model_selection import GridSearchCV\n",
    "from sklearn.metrics import classification_report\n",
    "\n",
    "rfc = RandomForestClassifier(n_jobs=-1, max_features='sqrt') \n",
    " \n",
    "# Use a grid over parameters of interest\n",
    "param_grid = { \n",
    "           \"n_estimators\" : [9, 18, 27, 36, 45, 54, 63],\n",
    "           \"max_depth\" : [2,3,5,7],\n",
    "           \"min_samples_leaf\" : [2, 4]}\n"
   ]
  },
  {
   "cell_type": "code",
   "execution_count": 50,
   "metadata": {},
   "outputs": [
    {
     "name": "stdout",
     "output_type": "stream",
     "text": [
      "Wall time: 10min 45s\n"
     ]
    },
    {
     "name": "stderr",
     "output_type": "stream",
     "text": [
      "C:\\Users\\kk\\Anaconda3\\lib\\site-packages\\sklearn\\model_selection\\_search.py:814: DeprecationWarning: The default of the `iid` parameter will change from True to False in version 0.22 and will be removed in 0.24. This will change numeric results when test-set sizes are unequal.\n",
      "  DeprecationWarning)\n"
     ]
    }
   ],
   "source": [
    "%%time\n",
    "clf_1 = GridSearchCV(estimator=rfc, param_grid=param_grid,cv=5)\n",
    "clf_1.fit(X_train, y_train)"
   ]
  },
  {
   "cell_type": "code",
   "execution_count": 51,
   "metadata": {},
   "outputs": [],
   "source": [
    "y_pred_gs = clf_1.predict(X_test)"
   ]
  },
  {
   "cell_type": "code",
   "execution_count": 52,
   "metadata": {},
   "outputs": [
    {
     "name": "stdout",
     "output_type": "stream",
     "text": [
      "              precision    recall  f1-score   support\n",
      "\n",
      "       False       0.73      0.84      0.78        38\n",
      "        True       0.14      0.08      0.10        13\n",
      "\n",
      "    accuracy                           0.65        51\n",
      "   macro avg       0.44      0.46      0.44        51\n",
      "weighted avg       0.58      0.65      0.61        51\n",
      "\n",
      "[[32  6]\n",
      " [12  1]]\n",
      "0.6470588235294118\n"
     ]
    }
   ],
   "source": [
    "print(classification_report(y_test, y_pred_gs))\n",
    "print(confusion_matrix(y_test, y_pred_gs))\n",
    "print(accuracy_score(y_test, y_pred_gs))"
   ]
  },
  {
   "cell_type": "code",
   "execution_count": null,
   "metadata": {},
   "outputs": [],
   "source": []
  }
 ],
 "metadata": {
  "kernelspec": {
   "display_name": "Python 3",
   "language": "python",
   "name": "python3"
  },
  "language_info": {
   "codemirror_mode": {
    "name": "ipython",
    "version": 3
   },
   "file_extension": ".py",
   "mimetype": "text/x-python",
   "name": "python",
   "nbconvert_exporter": "python",
   "pygments_lexer": "ipython3",
   "version": "3.6.5"
  }
 },
 "nbformat": 4,
 "nbformat_minor": 2
}
